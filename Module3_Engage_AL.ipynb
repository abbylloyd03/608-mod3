{
 "cells": [
  {
   "cell_type": "markdown",
   "id": "596d83b2-28e4-4470-964f-f96e3647a909",
   "metadata": {},
   "source": [
    "### Module 3: Engage "
   ]
  },
  {
   "cell_type": "code",
   "execution_count": 5,
   "id": "1e6504c2-2fd4-4277-aeb5-11e8a69f0abf",
   "metadata": {
    "tags": []
   },
   "outputs": [],
   "source": [
    "import statistics"
   ]
  },
  {
   "cell_type": "code",
   "execution_count": 2,
   "id": "d2398c25-58e2-479d-9983-0dbbe0db34bb",
   "metadata": {},
   "outputs": [],
   "source": [
    "data_a = [10, 11, 14, 20, 20, 20, 22, 24, 28, 31]\n",
    "\n",
    "data_b = [2, 9, 13, 14, 20, 20, 24, 26, 32, 40]"
   ]
  },
  {
   "cell_type": "code",
   "execution_count": 3,
   "id": "643220b8-16c6-480f-a610-48a98beb9a35",
   "metadata": {},
   "outputs": [],
   "source": [
    "list = [data_a, data_b]"
   ]
  },
  {
   "cell_type": "code",
   "execution_count": 10,
   "id": "3ebb1984-b08c-49e2-abe0-3fc05572a725",
   "metadata": {},
   "outputs": [
    {
     "name": "stdout",
     "output_type": "stream",
     "text": [
      "[10, 11, 14, 20, 20, 20, 22, 24, 28, 31] mean 20\n",
      "[10, 11, 14, 20, 20, 20, 22, 24, 28, 31] median 20.0\n",
      "[10, 11, 14, 20, 20, 20, 22, 24, 28, 31] mode 20\n",
      "[10, 11, 14, 20, 20, 20, 22, 24, 28, 31] range 21\n",
      "[10, 11, 14, 20, 20, 20, 22, 24, 28, 31] variance 42.2\n",
      "[10, 11, 14, 20, 20, 20, 22, 24, 28, 31] standard deviation 6.496152707564686\n",
      "[2, 9, 13, 14, 20, 20, 24, 26, 32, 40] mean 20\n",
      "[2, 9, 13, 14, 20, 20, 24, 26, 32, 40] median 20.0\n",
      "[2, 9, 13, 14, 20, 20, 24, 26, 32, 40] mode 20\n",
      "[2, 9, 13, 14, 20, 20, 24, 26, 32, 40] range 38\n",
      "[2, 9, 13, 14, 20, 20, 24, 26, 32, 40] variance 112.6\n",
      "[2, 9, 13, 14, 20, 20, 24, 26, 32, 40] standard deviation 10.611314715905847\n"
     ]
    }
   ],
   "source": [
    "for data in list:\n",
    "    print(data, \"mean\", statistics.mean(data))\n",
    "    print(data, \"median\", statistics.median(data))\n",
    "    print(data, \"mode\", statistics.mode(data))\n",
    "    print(data, \"range\", (max(data) - min(data)))\n",
    "    print(data, \"variance\", statistics.pvariance(data))\n",
    "    print(data, \"standard deviation\", statistics.pstdev(data))\n",
    "    "
   ]
  }
 ],
 "metadata": {
  "kernelspec": {
   "display_name": "Python 3 (ipykernel)",
   "language": "python",
   "name": "python3"
  },
  "language_info": {
   "codemirror_mode": {
    "name": "ipython",
    "version": 3
   },
   "file_extension": ".py",
   "mimetype": "text/x-python",
   "name": "python",
   "nbconvert_exporter": "python",
   "pygments_lexer": "ipython3",
   "version": "3.9.7"
  }
 },
 "nbformat": 4,
 "nbformat_minor": 5
}
