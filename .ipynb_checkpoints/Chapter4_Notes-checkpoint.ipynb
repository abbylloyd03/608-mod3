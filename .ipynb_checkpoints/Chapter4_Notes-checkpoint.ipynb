{
 "cells": [
  {
   "cell_type": "markdown",
   "id": "13ad02bb-e981-4498-9198-2a33c550f239",
   "metadata": {},
   "source": [
    "# Chapter 4 Notes"
   ]
  },
  {
   "cell_type": "markdown",
   "id": "adb93360-f955-41ed-817e-f44dcfc8440c",
   "metadata": {},
   "source": [
    "- Divide and Conquer\n",
    "- Software resuability: using existing functions as building blocks for creating new programs\n",
    "    - Major benefit of object-oriented programming"
   ]
  },
  {
   "cell_type": "markdown",
   "id": "3da76f6d-c4e8-4083-a9b8-eb9ecab146db",
   "metadata": {},
   "source": [
    "### 4.2 Defining Functions"
   ]
  },
  {
   "cell_type": "code",
   "execution_count": 3,
   "id": "266bdad2-ccd6-46e5-9339-cd80d76b992c",
   "metadata": {},
   "outputs": [
    {
     "name": "stdout",
     "output_type": "stream",
     "text": [
      "49\n",
      "6.25\n"
     ]
    }
   ],
   "source": [
    "def square(number):\n",
    "    \"\"\"Calculate the square of number.\"\"\"\n",
    "    return number ** 2\n",
    "\n",
    "print(square(7))\n",
    "\n",
    "print(square(2.5))"
   ]
  },
  {
   "cell_type": "markdown",
   "id": "e65d8d62-9210-4db0-8f64-96772a0aec1e",
   "metadata": {},
   "source": [
    "- A function defition begins with the **def** keyworkd, followed by the function name, a set of parentheses and a colon\n",
    "- Function names should begin with a lowercase letter and use underscores to separate each word\n",
    "- The required parentheses contains the function's parameter list (a comma-separated list of aparameters that the function needs to perform its task)\n",
    "- If the () is empty the function does not use parameters to perform its task\n",
    "- The indented lines after the colon are the functions **block**\n",
    "- There is a difference between a functions block and a control-statement suite\n",
    "- The first line of a function's block should be a docstring that briefly explains the function's purpose\n",
    "- A more detailed explanation may follow the initial docstring\n",
    "- Other ways to return control from a function to its caller:\n",
    "    - Executing a return statement without an expression terminates the function and implicitly returns the value **None** to the caller. (None evaluates to False in conditions.)\n",
    "    - When there is no return statement in a function in implicitly returns the value None after executing the last statement in the function's block.\n",
    "- The parameter exists only during the function call and is destroyed when the function returns its result to the caller\n",
    "- A function's parameters and variables defined in its block are all local variables\n",
    "    - Local variables: they can be used only inside the function and exist only while the function is executing\n",
    "    - Trying to access a local variable outisde its function's block causes a NameError"
   ]
  },
  {
   "cell_type": "code",
   "execution_count": 4,
   "id": "cc9e0b8b-edb7-40d1-9b2e-66c4e287aae1",
   "metadata": {},
   "outputs": [
    {
     "data": {
      "text/plain": [
       "\u001b[0;31mSignature:\u001b[0m \u001b[0msquare\u001b[0m\u001b[0;34m(\u001b[0m\u001b[0mnumber\u001b[0m\u001b[0;34m)\u001b[0m\u001b[0;34m\u001b[0m\u001b[0;34m\u001b[0m\u001b[0m\n",
       "\u001b[0;31mDocstring:\u001b[0m Calculate the square of number.\n",
       "\u001b[0;31mFile:\u001b[0m      /var/folders/08/r16vjmps66jch4n1446z7m0r0000gn/T/ipykernel_5848/2775281084.py\n",
       "\u001b[0;31mType:\u001b[0m      function\n"
      ]
     },
     "metadata": {},
     "output_type": "display_data"
    }
   ],
   "source": [
    "square?"
   ]
  },
  {
   "cell_type": "code",
   "execution_count": 5,
   "id": "0ae0a948-28f2-4b4f-835e-5bab728f62c7",
   "metadata": {},
   "outputs": [
    {
     "data": {
      "text/plain": [
       "\u001b[0;31mSignature:\u001b[0m \u001b[0msquare\u001b[0m\u001b[0;34m(\u001b[0m\u001b[0mnumber\u001b[0m\u001b[0;34m)\u001b[0m\u001b[0;34m\u001b[0m\u001b[0;34m\u001b[0m\u001b[0m\n",
       "\u001b[0;31mSource:\u001b[0m   \n",
       "\u001b[0;32mdef\u001b[0m \u001b[0msquare\u001b[0m\u001b[0;34m(\u001b[0m\u001b[0mnumber\u001b[0m\u001b[0;34m)\u001b[0m\u001b[0;34m:\u001b[0m\u001b[0;34m\u001b[0m\n",
       "\u001b[0;34m\u001b[0m    \u001b[0;34m\"\"\"Calculate the square of number.\"\"\"\u001b[0m\u001b[0;34m\u001b[0m\n",
       "\u001b[0;34m\u001b[0m    \u001b[0;32mreturn\u001b[0m \u001b[0mnumber\u001b[0m \u001b[0;34m**\u001b[0m \u001b[0;36m2\u001b[0m\u001b[0;34m\u001b[0m\u001b[0;34m\u001b[0m\u001b[0m\n",
       "\u001b[0;31mFile:\u001b[0m      /var/folders/08/r16vjmps66jch4n1446z7m0r0000gn/T/ipykernel_5848/2775281084.py\n",
       "\u001b[0;31mType:\u001b[0m      function\n"
      ]
     },
     "metadata": {},
     "output_type": "display_data"
    }
   ],
   "source": [
    "square??"
   ]
  },
  {
   "cell_type": "markdown",
   "id": "87acd4be-11ad-4b78-8f16-53acc64f7947",
   "metadata": {},
   "source": [
    "### 4.2 Self Check"
   ]
  },
  {
   "cell_type": "code",
   "execution_count": 6,
   "id": "0baa43c8-ef59-4f63-9740-3c52cc55b9b9",
   "metadata": {},
   "outputs": [
    {
     "data": {
      "text/plain": [
       "2.5"
      ]
     },
     "execution_count": 6,
     "metadata": {},
     "output_type": "execute_result"
    }
   ],
   "source": [
    "def square_root(number):\n",
    "    return number ** 0.5\n",
    "\n",
    "square_root(6.25)"
   ]
  }
 ],
 "metadata": {
  "kernelspec": {
   "display_name": "Python 3 (ipykernel)",
   "language": "python",
   "name": "python3"
  },
  "language_info": {
   "codemirror_mode": {
    "name": "ipython",
    "version": 3
   },
   "file_extension": ".py",
   "mimetype": "text/x-python",
   "name": "python",
   "nbconvert_exporter": "python",
   "pygments_lexer": "ipython3",
   "version": "3.9.7"
  }
 },
 "nbformat": 4,
 "nbformat_minor": 5
}
