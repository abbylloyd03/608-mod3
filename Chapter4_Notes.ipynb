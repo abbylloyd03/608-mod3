{
 "cells": [
  {
   "cell_type": "markdown",
   "id": "13ad02bb-e981-4498-9198-2a33c550f239",
   "metadata": {},
   "source": [
    "# Chapter 4 Notes"
   ]
  },
  {
   "cell_type": "markdown",
   "id": "adb93360-f955-41ed-817e-f44dcfc8440c",
   "metadata": {},
   "source": [
    "- Divide and Conquer\n",
    "- Software resuability: using existing functions as building blocks for creating new programs\n",
    "    - Major benefit of object-oriented programming"
   ]
  },
  {
   "cell_type": "markdown",
   "id": "3da76f6d-c4e8-4083-a9b8-eb9ecab146db",
   "metadata": {},
   "source": [
    "### 4.2 Defining Functions"
   ]
  },
  {
   "cell_type": "code",
   "execution_count": 2,
   "id": "266bdad2-ccd6-46e5-9339-cd80d76b992c",
   "metadata": {},
   "outputs": [
    {
     "name": "stdout",
     "output_type": "stream",
     "text": [
      "49\n",
      "6.25\n"
     ]
    }
   ],
   "source": [
    "def square(number):\n",
    "    \"\"\"Calculate the square of number.\"\"\"\n",
    "    return number ** 2\n",
    "\n",
    "print(square(7))\n",
    "\n",
    "print(square(2.5))"
   ]
  },
  {
   "cell_type": "markdown",
   "id": "e65d8d62-9210-4db0-8f64-96772a0aec1e",
   "metadata": {},
   "source": [
    "- A function defition begins with the **def** keyworkd, followed by the function name, a set of parentheses and a colon\n",
    "- Function names should begin with a lowercase letter and use underscores to separate each word\n",
    "- The required parentheses contains the function's parameter list (a comma-separated list of aparameters that the function needs to perform its task)\n",
    "- If the () is empty the function does not use parameters to perform its task\n",
    "- The indented lines after the colon are the functions **block**\n",
    "- There is a difference between a functions block and a control-statement suite\n",
    "- The first line of a function's block should be a docstring that briefly explains the function's purpose\n",
    "- A more detailed explanation may follow the initial docstring\n",
    "- Other ways to return control from a function to its caller:\n",
    "    - Executing a return statement without an expression terminates the function and implicitly returns the value **None** to the caller. (None evaluates to False in conditions.)\n",
    "    - When there is no return statement in a function in implicitly returns the value None after executing the last statement in the function's block.\n",
    "- The parameter exists only during the function call and is destroyed when the function returns its result to the caller\n",
    "- A function's parameters and variables defined in its block are all local variables\n",
    "    - Local variables: they can be used only inside the function and exist only while the function is executing\n",
    "    - Trying to access a local variable outisde its function's block causes a NameError"
   ]
  },
  {
   "cell_type": "code",
   "execution_count": 3,
   "id": "cc9e0b8b-edb7-40d1-9b2e-66c4e287aae1",
   "metadata": {},
   "outputs": [
    {
     "data": {
      "text/plain": [
       "\u001b[0;31mSignature:\u001b[0m \u001b[0msquare\u001b[0m\u001b[0;34m(\u001b[0m\u001b[0mnumber\u001b[0m\u001b[0;34m)\u001b[0m\u001b[0;34m\u001b[0m\u001b[0;34m\u001b[0m\u001b[0m\n",
       "\u001b[0;31mDocstring:\u001b[0m Calculate the square of number.\n",
       "\u001b[0;31mFile:\u001b[0m      /var/folders/08/r16vjmps66jch4n1446z7m0r0000gn/T/ipykernel_6390/2775281084.py\n",
       "\u001b[0;31mType:\u001b[0m      function\n"
      ]
     },
     "metadata": {},
     "output_type": "display_data"
    }
   ],
   "source": [
    "square?"
   ]
  },
  {
   "cell_type": "code",
   "execution_count": 4,
   "id": "0ae0a948-28f2-4b4f-835e-5bab728f62c7",
   "metadata": {},
   "outputs": [
    {
     "data": {
      "text/plain": [
       "\u001b[0;31mSignature:\u001b[0m \u001b[0msquare\u001b[0m\u001b[0;34m(\u001b[0m\u001b[0mnumber\u001b[0m\u001b[0;34m)\u001b[0m\u001b[0;34m\u001b[0m\u001b[0;34m\u001b[0m\u001b[0m\n",
       "\u001b[0;31mSource:\u001b[0m   \n",
       "\u001b[0;32mdef\u001b[0m \u001b[0msquare\u001b[0m\u001b[0;34m(\u001b[0m\u001b[0mnumber\u001b[0m\u001b[0;34m)\u001b[0m\u001b[0;34m:\u001b[0m\u001b[0;34m\u001b[0m\n",
       "\u001b[0;34m\u001b[0m    \u001b[0;34m\"\"\"Calculate the square of number.\"\"\"\u001b[0m\u001b[0;34m\u001b[0m\n",
       "\u001b[0;34m\u001b[0m    \u001b[0;32mreturn\u001b[0m \u001b[0mnumber\u001b[0m \u001b[0;34m**\u001b[0m \u001b[0;36m2\u001b[0m\u001b[0;34m\u001b[0m\u001b[0;34m\u001b[0m\u001b[0m\n",
       "\u001b[0;31mFile:\u001b[0m      /var/folders/08/r16vjmps66jch4n1446z7m0r0000gn/T/ipykernel_6390/2775281084.py\n",
       "\u001b[0;31mType:\u001b[0m      function\n"
      ]
     },
     "metadata": {},
     "output_type": "display_data"
    }
   ],
   "source": [
    "square??"
   ]
  },
  {
   "cell_type": "markdown",
   "id": "87acd4be-11ad-4b78-8f16-53acc64f7947",
   "metadata": {},
   "source": [
    "### 4.2 Self Check"
   ]
  },
  {
   "cell_type": "code",
   "execution_count": 5,
   "id": "0baa43c8-ef59-4f63-9740-3c52cc55b9b9",
   "metadata": {},
   "outputs": [
    {
     "data": {
      "text/plain": [
       "2.5"
      ]
     },
     "execution_count": 5,
     "metadata": {},
     "output_type": "execute_result"
    }
   ],
   "source": [
    "def square_root(number):\n",
    "    return number ** 0.5\n",
    "\n",
    "square_root(6.25)"
   ]
  },
  {
   "cell_type": "markdown",
   "id": "576430dd-7fcf-4c8b-9120-d2225a1ae52c",
   "metadata": {},
   "source": [
    "### 4.3 Functions with Multiple Parameters"
   ]
  },
  {
   "cell_type": "code",
   "execution_count": 6,
   "id": "26d2723d-cd5e-4d04-bbc9-9a81f5957f4b",
   "metadata": {},
   "outputs": [
    {
     "name": "stdout",
     "output_type": "stream",
     "text": [
      "36\n",
      "45.6\n",
      "yellow\n",
      "12\n",
      "9.7\n",
      "orange\n"
     ]
    }
   ],
   "source": [
    "def maximum(value1, value2, value3):\n",
    "    \"\"\"Return the maximum of three values.\"\"\"\n",
    "    max_value = value1\n",
    "    if value2 > max_value:\n",
    "        max_value = value2\n",
    "    if value3 > max_value:\n",
    "        max_value = value3\n",
    "    return max_value\n",
    "\n",
    "print(maximum(12, 27, 36))\n",
    "print(maximum(12.3, 45.6, 9.7))\n",
    "print(maximum('yellow', 'red', 'orange'))\n",
    "\n",
    "def minimum(value1, value2, value3):\n",
    "    \"\"\"Return the minimum of three values\"\"\"\n",
    "    min_value = value1\n",
    "    if value2 < min_value:\n",
    "        min_value = value2\n",
    "    if value3 < min_value:\n",
    "        min_value = value3\n",
    "    return min_value\n",
    "\n",
    "print(minimum(12, 27, 36))\n",
    "print(minimum(12.3, 45.6, 9.7))\n",
    "print(minimum('yellow', 'red', 'orange'))"
   ]
  },
  {
   "cell_type": "markdown",
   "id": "ae8f7ab0-4f81-4796-bbfa-cdcaae743c2f",
   "metadata": {},
   "source": [
    "### 4.3 Self Check"
   ]
  },
  {
   "cell_type": "code",
   "execution_count": 7,
   "id": "60c7eabb-8509-4ac8-b6ca-6b6d36b95245",
   "metadata": {},
   "outputs": [
    {
     "name": "stdout",
     "output_type": "stream",
     "text": [
      "27\n",
      "a\n"
     ]
    }
   ],
   "source": [
    "print(max([14, 27, 5, 3]))\n",
    "print(min('orange'))"
   ]
  },
  {
   "cell_type": "markdown",
   "id": "3bc7ab95-5542-448f-a6a9-52d88b9b1ea7",
   "metadata": {},
   "source": [
    "### 4.4 Random Number Generation"
   ]
  },
  {
   "cell_type": "code",
   "execution_count": 8,
   "id": "6be964fd-e542-40b4-ae9d-71300fdfaa4a",
   "metadata": {},
   "outputs": [
    {
     "name": "stdout",
     "output_type": "stream",
     "text": [
      "5 1 2 1 6 1 2 5 4 3 "
     ]
    }
   ],
   "source": [
    "import random\n",
    "\n",
    "for roll in range(10):\n",
    "    print(random.randrange(1, 7), end= ' ')"
   ]
  },
  {
   "cell_type": "markdown",
   "id": "0087a7bf-0e7d-496d-9a61-9faea846e45e",
   "metadata": {},
   "source": [
    "The **randrange** function generates an integer from the first argument value up to but **not** including the second argument value. "
   ]
  },
  {
   "cell_type": "code",
   "execution_count": 9,
   "id": "1909e7f2-409a-4292-a5d2-a8f81096fa21",
   "metadata": {},
   "outputs": [
    {
     "name": "stdout",
     "output_type": "stream",
     "text": [
      "Face    Frequency\n",
      "   1       998692\n",
      "   2      1000667\n",
      "   3       999713\n",
      "   4       999230\n",
      "   5      1000513\n",
      "   6      1001185\n"
     ]
    }
   ],
   "source": [
    "import random\n",
    "\n",
    "frequency1 = 0\n",
    "frequency2 = 0\n",
    "frequency3 = 0\n",
    "frequency4 = 0\n",
    "frequency5 = 0\n",
    "frequency6 = 0\n",
    "\n",
    "for roll in range(6_000_000):\n",
    "    face = random.randrange(1, 7)\n",
    "    \n",
    "    if face == 1:\n",
    "        frequency1 += 1\n",
    "    elif face == 2:\n",
    "        frequency2 += 1\n",
    "    elif face == 3:\n",
    "        frequency3 += 1\n",
    "    elif face == 4:\n",
    "        frequency4 += 1\n",
    "    elif face == 5:\n",
    "        frequency5 += 1\n",
    "    elif face == 6:\n",
    "        frequency6 += 1\n",
    "        \n",
    "print(f'Face{\"Frequency\":>13}')\n",
    "print(f'{1:>4}{frequency1:>13}')\n",
    "print(f'{2:>4}{frequency2:>13}')\n",
    "print(f'{3:>4}{frequency3:>13}')\n",
    "print(f'{4:>4}{frequency4:>13}')\n",
    "print(f'{5:>4}{frequency5:>13}')\n",
    "print(f'{6:>4}{frequency6:>13}')"
   ]
  },
  {
   "cell_type": "markdown",
   "id": "e007f537-70be-45c9-86f3-7b863a1fa86a",
   "metadata": {},
   "source": [
    "The random module's seed function can be used to seed the random-number generator yourself––this forces randrange to begin calculating its pseudorandom number sequence from the seed ou specify."
   ]
  },
  {
   "cell_type": "code",
   "execution_count": 10,
   "id": "80e335ef-dcfa-4a9f-bb1c-92591452502b",
   "metadata": {},
   "outputs": [
    {
     "name": "stdout",
     "output_type": "stream",
     "text": [
      "1 2 2 3 6 2 4 1 6 1  \n",
      "1 3 5 3 1 5 6 4 3 5  \n",
      "1 2 2 3 6 2 4 1 6 1 "
     ]
    }
   ],
   "source": [
    "random.seed(32)\n",
    "\n",
    "for roll in range(10):\n",
    "    print(random.randrange(1,7), end=' ')\n",
    "    \n",
    "print(' ')\n",
    "\n",
    "for roll in range(10):\n",
    "    print(random.randrange(1,7), end=' ')\n",
    "\n",
    "print(' ')\n",
    "\n",
    "random.seed(32)\n",
    "\n",
    "for roll in range(10):\n",
    "    print(random.randrange(1,7), end=' ')"
   ]
  },
  {
   "cell_type": "markdown",
   "id": "1c3fdd91-16bb-485e-9650-b185ff54f50f",
   "metadata": {},
   "source": [
    "### 4.4 Self Check"
   ]
  },
  {
   "cell_type": "code",
   "execution_count": 11,
   "id": "b9ec8ed9-bb7a-4d34-9e49-74a39a580640",
   "metadata": {},
   "outputs": [
    {
     "name": "stdout",
     "output_type": "stream",
     "text": [
      "H T T H T T H H H T H T H T H T H H H H "
     ]
    }
   ],
   "source": [
    "for flip in range(20):\n",
    "    r = random.randrange(1,3)\n",
    "    if r == 1:\n",
    "        print(\"H\", end=' ')\n",
    "    else:\n",
    "        print(\"T\", end=' ')"
   ]
  },
  {
   "cell_type": "markdown",
   "id": "3cc612b9-8629-4557-813a-b1a7adf0de5f",
   "metadata": {},
   "source": [
    "### 4.5 Case Study"
   ]
  },
  {
   "cell_type": "markdown",
   "id": "acd269ab-8be2-431d-8e48-b53fadadd24e",
   "metadata": {},
   "source": [
    "Packing / Unpacking a tuple"
   ]
  },
  {
   "cell_type": "code",
   "execution_count": 29,
   "id": "6cb014d6-9ad0-4cc2-8049-8f3c9227c5e2",
   "metadata": {},
   "outputs": [
    {
     "name": "stdout",
     "output_type": "stream",
     "text": [
      "(5, 3)\n",
      "<class 'tuple'>\n",
      "8\n",
      "<class 'int'>\n"
     ]
    }
   ],
   "source": [
    "import random\n",
    "\n",
    "def roll_dice():\n",
    "    \"\"\"Roll two dice and return their face values as a tuple.\"\"\"\n",
    "    die1 = random.randrange(1, 7)\n",
    "    die2 = random.randrange(1, 7)\n",
    "    return (die1, die2)\n",
    "\n",
    "dice = roll_dice()\n",
    "print(dice)\n",
    "print(type(dice))\n",
    "print(sum(dice))\n",
    "print(type(sum(dice)))\n"
   ]
  },
  {
   "cell_type": "markdown",
   "id": "7ae4ccf7-4247-49a5-98c2-0c713f2b3f71",
   "metadata": {},
   "source": [
    "### 4.5 Self Check"
   ]
  },
  {
   "cell_type": "code",
   "execution_count": 2,
   "id": "105ca7a6-c9de-40d1-be14-8104a20cb84b",
   "metadata": {},
   "outputs": [
    {
     "name": "stdout",
     "output_type": "stream",
     "text": [
      "('Sue', [89, 94, 85])\n",
      "Sue: [89, 94, 85]\n"
     ]
    }
   ],
   "source": [
    "# Pack tuple\n",
    "\n",
    "student = ('Sue', [89,94,85])\n",
    "print(student)\n",
    "\n",
    "# Unpack tuple\n",
    "\n",
    "name, grades = student\n",
    "\n",
    "print(f'{name}: {grades}')"
   ]
  },
  {
   "cell_type": "markdown",
   "id": "a62fe817-cc0c-4281-9e9c-14d8021c6112",
   "metadata": {},
   "source": [
    "### 4.7 math Module Functions"
   ]
  },
  {
   "cell_type": "markdown",
   "id": "4f2abd70-fa73-4616-aecd-3755fd9ecbfd",
   "metadata": {},
   "source": [
    "import math\n",
    "\n",
    "# Square root, returns a float\n",
    "print(math.sqrt(900))\n",
    "\n",
    "#Absolute value, always returns a float\n",
    "print(math.fabs(-10))"
   ]
  },
  {
   "cell_type": "markdown",
   "id": "f1b1043d-21d4-406d-b1c1-2886829ab289",
   "metadata": {},
   "source": [
    "### 4.8 Using ipython tab completion for discovery"
   ]
  },
  {
   "cell_type": "markdown",
   "id": "b8bd4739-e8f9-4023-b7ca-c4a32eec8410",
   "metadata": {},
   "source": [
    "After you type a portion of an identifier and press **Tab**, ipython completes the identifier for you or provides a list of identifiers."
   ]
  },
  {
   "cell_type": "markdown",
   "id": "09682751-a47f-4d59-8e40-647572d00465",
   "metadata": {},
   "source": [
    "To view a list of identifiers defined in a module, type the module's name and a dot, then press Tab."
   ]
  },
  {
   "cell_type": "code",
   "execution_count": 9,
   "id": "aea1e346-1c93-4d3e-83c6-9a43414b57e5",
   "metadata": {},
   "outputs": [
    {
     "data": {
      "text/plain": [
       "\u001b[0;31mSignature:\u001b[0m \u001b[0mmath\u001b[0m\u001b[0;34m.\u001b[0m\u001b[0mfabs\u001b[0m\u001b[0;34m(\u001b[0m\u001b[0mx\u001b[0m\u001b[0;34m,\u001b[0m \u001b[0;34m/\u001b[0m\u001b[0;34m)\u001b[0m\u001b[0;34m\u001b[0m\u001b[0;34m\u001b[0m\u001b[0m\n",
       "\u001b[0;31mDocstring:\u001b[0m Return the absolute value of the float x.\n",
       "\u001b[0;31mType:\u001b[0m      builtin_function_or_method\n"
      ]
     },
     "metadata": {},
     "output_type": "display_data"
    }
   ],
   "source": [
    "import math\n",
    "\n",
    "math.fabs?"
   ]
  },
  {
   "cell_type": "markdown",
   "id": "2afca3de-beef-4ebe-9b1d-bcaaaff29cd1",
   "metadata": {},
   "source": [
    "Single-word identifiers that begin with an uppercase letter and multiword identifiers in which each word begins with an uppercase letter represent class names. This is known as **CamelCase**."
   ]
  },
  {
   "cell_type": "markdown",
   "id": "a65b4909-1a8e-4d0a-9ef1-04caba218eca",
   "metadata": {},
   "source": [
    "e and pi are variables in math. Do not assign another value to them."
   ]
  },
  {
   "cell_type": "markdown",
   "id": "863c5016-d784-4051-b60d-717e04b2b3d8",
   "metadata": {},
   "source": [
    "### 4.9 Default Parameter Values"
   ]
  },
  {
   "cell_type": "markdown",
   "id": "68ca1ab8-65ac-4643-b383-8afffcd43768",
   "metadata": {},
   "source": [
    "When defining a function, you can specify that a parameter has a default parameter value."
   ]
  },
  {
   "cell_type": "code",
   "execution_count": 12,
   "id": "821916ac-efeb-408d-95b7-2ea6376ce3b3",
   "metadata": {},
   "outputs": [
    {
     "name": "stdout",
     "output_type": "stream",
     "text": [
      "6\n"
     ]
    }
   ],
   "source": [
    "# A function with default parameters:\n",
    "\n",
    "def rectangle_area(length=2, width=3):\n",
    "    \"\"\"Return a rectangle's area.\"\"\"\n",
    "    return length * width\n",
    "\n",
    "print(rectangle_area())"
   ]
  },
  {
   "cell_type": "code",
   "execution_count": 13,
   "id": "2abaf5f8-ad9f-4ea9-a0c5-f43698a0371b",
   "metadata": {},
   "outputs": [
    {
     "name": "stdout",
     "output_type": "stream",
     "text": [
      "30\n"
     ]
    }
   ],
   "source": [
    "# Arguments are assigned to parameters from left to right. 10 replaces the default parameter for length.\n",
    "\n",
    "print(rectangle_area(10))"
   ]
  },
  {
   "cell_type": "code",
   "execution_count": 15,
   "id": "562f19b1-b8ab-4c6a-a28c-0a91af98951f",
   "metadata": {},
   "outputs": [
    {
     "name": "stdout",
     "output_type": "stream",
     "text": [
      "50\n"
     ]
    }
   ],
   "source": [
    "print(rectangle_area(10, 5))"
   ]
  },
  {
   "cell_type": "markdown",
   "id": "7ba969d6-a4ab-48c2-8df2-4cf9ce7270cd",
   "metadata": {},
   "source": [
    "### 4.10 Keyword Arguments"
   ]
  },
  {
   "cell_type": "markdown",
   "id": "bef0b2f3-60c5-4114-b0b3-6d71a155e870",
   "metadata": {},
   "source": [
    "You can use keyword arguments to pass arguments in any order."
   ]
  },
  {
   "cell_type": "code",
   "execution_count": 16,
   "id": "714f479c-52c8-4ab5-b57f-c1d874ccdfa4",
   "metadata": {},
   "outputs": [
    {
     "data": {
      "text/plain": [
       "50"
      ]
     },
     "execution_count": 16,
     "metadata": {},
     "output_type": "execute_result"
    }
   ],
   "source": [
    "def rectangle_area(length, width):\n",
    "    \"\"\"Return a rectangle's area.\"\"\"\n",
    "    return length * width\n",
    "\n",
    "rectangle_area(width=5, length=10)"
   ]
  },
  {
   "cell_type": "markdown",
   "id": "3fc55aa4-4f46-41f6-b00b-f35d36f9d844",
   "metadata": {},
   "source": [
    "### 4.11 Arbitrary Argument Lists"
   ]
  },
  {
   "cell_type": "markdown",
   "id": "5b410f66-422f-48c1-ba2a-2877ce677c88",
   "metadata": {},
   "source": [
    "*args indicates that the function can receive any number of additional arguments. The * before the parameter name tells Python to pack any remaining arguents into a tuple that's passed to the args parameter."
   ]
  },
  {
   "cell_type": "code",
   "execution_count": 3,
   "id": "494e1d4f-f734-46e4-b236-fdfbc95b1a69",
   "metadata": {},
   "outputs": [
    {
     "name": "stdout",
     "output_type": "stream",
     "text": [
      "7.5\n",
      "10.0\n"
     ]
    }
   ],
   "source": [
    "def average(*args):\n",
    "    return sum(args) / len(args)\n",
    "\n",
    "print(average(5, 10))\n",
    "print(average(10, 15, 5))"
   ]
  },
  {
   "cell_type": "markdown",
   "id": "fdc7f0f9-d4c9-4a14-89a8-b2edb0cfb516",
   "metadata": {},
   "source": [
    "You can unpack a tuple's, list's, or other iterable's elements to pass them as individual function arguments. The * operator, when applied to an iterable argument in a function call unpacks its elements."
   ]
  },
  {
   "cell_type": "code",
   "execution_count": 5,
   "id": "fc553e83-b432-4cad-9aa7-b1fb7c1531a9",
   "metadata": {},
   "outputs": [
    {
     "name": "stdout",
     "output_type": "stream",
     "text": [
      "79.4\n"
     ]
    }
   ],
   "source": [
    "grades = [88, 75, 96, 55, 83]\n",
    "\n",
    "print(average(*grades))"
   ]
  },
  {
   "cell_type": "markdown",
   "id": "9697ce51-be78-4f0d-896a-82273995b53b",
   "metadata": {},
   "source": [
    "### 4.11 Self Check"
   ]
  },
  {
   "cell_type": "code",
   "execution_count": 13,
   "id": "5f55aa96-42e7-4df6-b298-dc50f17f5a20",
   "metadata": {},
   "outputs": [
    {
     "name": "stdout",
     "output_type": "stream",
     "text": [
      "6000\n",
      "15\n"
     ]
    }
   ],
   "source": [
    "def calculate_product(*args):\n",
    "    \"\"\"Recieves and arbitrary argument list and returns the products of all arguments\"\"\"\n",
    "    product = 1\n",
    "    for value in args:\n",
    "        product *= value\n",
    "    return product\n",
    "\n",
    "\n",
    "values = [10, 20, 30]\n",
    "\n",
    "print(calculate_product(*values))\n",
    "\n",
    "print(calculate_product(*range(1, 6, 2)))\n",
    "        "
   ]
  },
  {
   "cell_type": "markdown",
   "id": "572a7dba-3f19-44d1-9165-76735ec6a2d1",
   "metadata": {},
   "source": [
    "### Methods: Functions Tht Belong to Objects"
   ]
  },
  {
   "cell_type": "markdown",
   "id": "69b423f0-bdb9-4967-8b07-9c3d039d2044",
   "metadata": {},
   "source": [
    "A method is a function that you call on an object. Use the following form:\n",
    "    \n",
    "    object_name.method_name(arguments)\n",
    "    "
   ]
  },
  {
   "cell_type": "code",
   "execution_count": 16,
   "id": "bab682de-c976-4e1b-85d9-519a28b2460b",
   "metadata": {},
   "outputs": [
    {
     "name": "stdout",
     "output_type": "stream",
     "text": [
      "hello\n",
      "HELLO\n",
      "Hello\n"
     ]
    }
   ],
   "source": [
    "s = 'Hello'\n",
    "\n",
    "print(s.lower())\n",
    "print(s.upper())\n",
    "print(s)"
   ]
  },
  {
   "cell_type": "markdown",
   "id": "4ac60fea-5483-4f57-bace-cb051b7c6278",
   "metadata": {},
   "source": [
    "### 4.13 Scope Rules"
   ]
  },
  {
   "cell_type": "markdown",
   "id": "1eb6de5e-abe4-432c-b50f-bc435867d4f7",
   "metadata": {},
   "source": [
    "**Local scope:** It's in scope only from its definition to the end of the function's block.\n",
    "**Global scope:** Identifiers defined outside any function (or class). Variables with global scope are known as global variables. Global identifiers can be used in a .py session anywhere after they're defined."
   ]
  },
  {
   "cell_type": "code",
   "execution_count": 17,
   "id": "e3575046-8edc-48db-a493-e6809d5348aa",
   "metadata": {},
   "outputs": [
    {
     "name": "stdout",
     "output_type": "stream",
     "text": [
      "x printed from access_global: 7\n"
     ]
    }
   ],
   "source": [
    "#Access a global variable from a function\n",
    "\n",
    "x=7\n",
    "\n",
    "def access_global():\n",
    "    print('x printed from access_global:', x)\n",
    "    \n",
    "access_global()"
   ]
  },
  {
   "cell_type": "code",
   "execution_count": 19,
   "id": "f19f2841-02fd-4f8e-88a9-f978d580dbc0",
   "metadata": {},
   "outputs": [
    {
     "name": "stdout",
     "output_type": "stream",
     "text": [
      "x printed from try_to_modify_global: 3.5\n",
      "7\n"
     ]
    }
   ],
   "source": [
    "#You cannot modify a global variable in a function - it will create a new local variable instead.\n",
    "\n",
    "def try_to_modify_global():\n",
    "    x = 3.5 #Local x shadows the global x, making global x unaccessible inside the function block\n",
    "    print('x printed from try_to_modify_global:', x)\n",
    "\n",
    "try_to_modify_global()\n",
    "print(x)"
   ]
  },
  {
   "cell_type": "code",
   "execution_count": 21,
   "id": "8602665c-db9a-46ed-9542-c53588498cfc",
   "metadata": {},
   "outputs": [
    {
     "name": "stdout",
     "output_type": "stream",
     "text": [
      "x printed from modify_global: hello\n",
      "hello\n"
     ]
    }
   ],
   "source": [
    "#To modify global variable in a function block, you must use a global statement\n",
    "\n",
    "def modify_global():\n",
    "    global x\n",
    "    x = 'hello'\n",
    "    print('x printed from modify_global:', x)\n",
    "\n",
    "modify_global()\n",
    "print(x)"
   ]
  },
  {
   "cell_type": "markdown",
   "id": "58f9a0c9-e49a-41f0-9734-15ea9089581a",
   "metadata": {},
   "source": [
    "When you create a variable in a control statement's suite, the variable's scope depends on where the control statement is defined:\n",
    "- If the control statement is in the global scope, then any variables defined in the control statement have global scope.\n",
    "- If the control statement is in a function's block, then any variables defined in the control statement have local scope."
   ]
  },
  {
   "cell_type": "markdown",
   "id": "2ff30e5a-2e35-4c29-bb92-e9a6febb3a93",
   "metadata": {},
   "source": [
    "### 4.14 import: A Deeper Look"
   ]
  },
  {
   "cell_type": "code",
   "execution_count": 23,
   "id": "d4e51b2b-036f-40e8-beaa-bf94b26c3be1",
   "metadata": {},
   "outputs": [
    {
     "name": "stdout",
     "output_type": "stream",
     "text": [
      "11\n",
      "10\n"
     ]
    }
   ],
   "source": [
    "#Importing multiple identifiers from a module.\n",
    "\n",
    "from math import ceil, floor\n",
    "\n",
    "print(ceil(10.3))\n",
    "print(floor(10.7))"
   ]
  },
  {
   "cell_type": "code",
   "execution_count": 24,
   "id": "d42fc5f2-b491-4418-93c3-944857afc814",
   "metadata": {},
   "outputs": [
    {
     "data": {
      "text/plain": [
       "2.718281828459045"
      ]
     },
     "execution_count": 24,
     "metadata": {},
     "output_type": "execute_result"
    }
   ],
   "source": [
    "#Caution: aviod wildcard imports\n",
    "\n",
    "e = 'hello'\n",
    "\n",
    "from math import *\n",
    "\n",
    "e"
   ]
  },
  {
   "cell_type": "code",
   "execution_count": 25,
   "id": "1f5bd5d9-b4a3-4bcc-b333-c9bdfa6c138e",
   "metadata": {},
   "outputs": [
    {
     "data": {
      "text/plain": [
       "79.4"
      ]
     },
     "execution_count": 25,
     "metadata": {},
     "output_type": "execute_result"
    }
   ],
   "source": [
    "#Binding names for modules and module identifiers\n",
    "\n",
    "import statistics as stats\n",
    "\n",
    "stats.mean(grades)"
   ]
  },
  {
   "cell_type": "markdown",
   "id": "6a570e3f-3918-4b08-94b4-87129e308169",
   "metadata": {},
   "source": [
    "### 4.14 Self Check"
   ]
  },
  {
   "cell_type": "code",
   "execution_count": 28,
   "id": "ed082144-1fc0-4ed4-9352-34edd8a05d82",
   "metadata": {},
   "outputs": [
    {
     "data": {
      "text/plain": [
       "Decimal('6.25')"
      ]
     },
     "execution_count": 28,
     "metadata": {},
     "output_type": "execute_result"
    }
   ],
   "source": [
    "import decimal as dec\n",
    "\n",
    "dec.Decimal(2.5) ** 2"
   ]
  },
  {
   "cell_type": "markdown",
   "id": "2df10bd3-fe3c-4703-a83e-5f001dcb5a26",
   "metadata": {},
   "source": [
    "### 4.15 Passing arguments to Functions: A Deeper Look"
   ]
  },
  {
   "cell_type": "markdown",
   "id": "ab20ca29-d18f-4514-b170-c4138809b68e",
   "metadata": {},
   "source": [
    "Two ways to pass arguments to functions:\n",
    "- **Pass-by-value**: the called function receives a copy of the argument's value and works exclusevely with that copy. Changes to the function's copy do not affect the original variable's value in the caller.\n",
    "- **Pass-by-reference**: the called function can access the argument's value in the caller directly and modify the value if it's mutable\n",
    "- **Python's arguments are always passed by reference.**"
   ]
  },
  {
   "cell_type": "markdown",
   "id": "9566f73b-4413-46b7-af68-2b377c31b542",
   "metadata": {},
   "source": [
    "No two objects can reside at the same address in memory. We can use the built-in id function to obtain a unique int value which identifies only that object while it remains in memory."
   ]
  },
  {
   "cell_type": "code",
   "execution_count": 32,
   "id": "97fc7d0c-4276-4c15-b203-ee62b06ac635",
   "metadata": {},
   "outputs": [
    {
     "data": {
      "text/plain": [
       "4427749872"
      ]
     },
     "execution_count": 32,
     "metadata": {},
     "output_type": "execute_result"
    }
   ],
   "source": [
    "#Get an object's identity.\n",
    "x=7\n",
    "id(x)"
   ]
  },
  {
   "cell_type": "code",
   "execution_count": 34,
   "id": "84b96e83-ddda-4999-9bcf-371c498e454f",
   "metadata": {},
   "outputs": [
    {
     "name": "stdout",
     "output_type": "stream",
     "text": [
      "id(number): 4427749872\n"
     ]
    },
    {
     "data": {
      "text/plain": [
       "343"
      ]
     },
     "execution_count": 34,
     "metadata": {},
     "output_type": "execute_result"
    }
   ],
   "source": [
    "#Passing an object to a function\n",
    "\n",
    "def cube(number):\n",
    "    print('id(number):', id(number))\n",
    "    return number ** 3\n",
    "\n",
    "cube(x)"
   ]
  },
  {
   "cell_type": "code",
   "execution_count": 35,
   "id": "b310ba59-7f79-4121-aa6c-9fb031f0535a",
   "metadata": {},
   "outputs": [
    {
     "name": "stdout",
     "output_type": "stream",
     "text": [
      "number is x: True\n"
     ]
    },
    {
     "data": {
      "text/plain": [
       "343"
      ]
     },
     "execution_count": 35,
     "metadata": {},
     "output_type": "execute_result"
    }
   ],
   "source": [
    "#Use Python's is operator to check if two operands have the same identity\n",
    "def cube(number):\n",
    "    print('number is x:', number is x)\n",
    "    return number **3\n",
    "\n",
    "cube(x)"
   ]
  },
  {
   "cell_type": "code",
   "execution_count": 44,
   "id": "9c71fdf6-10d0-466e-8f66-1a372c2fe370",
   "metadata": {},
   "outputs": [],
   "source": [
    "### 4.15 Self Check"
   ]
  },
  {
   "cell_type": "code",
   "execution_count": 40,
   "id": "2fe3422b-30c9-453a-99c7-2f8a3bab516f",
   "metadata": {},
   "outputs": [
    {
     "name": "stdout",
     "output_type": "stream",
     "text": [
      "id(number) before modifying number: 4427749872\n",
      "id(number) after modifying number: 4494479216\n",
      "7\n",
      "4427749872\n"
     ]
    }
   ],
   "source": [
    "#Immutable objects as arguments (inmutable objects: int, float, string, tuple)\n",
    "\n",
    "def cube(number):\n",
    "    print ('id(number) before modifying number:', id(number))\n",
    "    number **= 3\n",
    "    print('id(number) after modifying number:', id(number))\n",
    "    return number\n",
    "\n",
    "cube(x)\n",
    "print(x)\n",
    "print(id(x))"
   ]
  },
  {
   "cell_type": "code",
   "execution_count": 43,
   "id": "1a76746a-a9d8-4eef-98e2-e2422d806c5f",
   "metadata": {},
   "outputs": [
    {
     "name": "stdout",
     "output_type": "stream",
     "text": [
      "4494476144 15.5\n",
      "4494476208 46.5\n"
     ]
    }
   ],
   "source": [
    "width = 15.5\n",
    "print(id(width), width)\n",
    "\n",
    "width = width * 3\n",
    "\n",
    "print(id(width), width)\n"
   ]
  }
 ],
 "metadata": {
  "kernelspec": {
   "display_name": "Python 3 (ipykernel)",
   "language": "python",
   "name": "python3"
  },
  "language_info": {
   "codemirror_mode": {
    "name": "ipython",
    "version": 3
   },
   "file_extension": ".py",
   "mimetype": "text/x-python",
   "name": "python",
   "nbconvert_exporter": "python",
   "pygments_lexer": "ipython3",
   "version": "3.9.7"
  }
 },
 "nbformat": 4,
 "nbformat_minor": 5
}
