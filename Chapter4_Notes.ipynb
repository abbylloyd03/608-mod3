{
 "cells": [
  {
   "cell_type": "markdown",
   "id": "13ad02bb-e981-4498-9198-2a33c550f239",
   "metadata": {},
   "source": [
    "# Chapter 4 Notes"
   ]
  },
  {
   "cell_type": "markdown",
   "id": "adb93360-f955-41ed-817e-f44dcfc8440c",
   "metadata": {},
   "source": [
    "- Divide and Conquer\n",
    "- Software resuability: using existing functions as building blocks for creating new programs\n",
    "    - Major benefit of object-oriented programming"
   ]
  },
  {
   "cell_type": "markdown",
   "id": "3da76f6d-c4e8-4083-a9b8-eb9ecab146db",
   "metadata": {},
   "source": [
    "### 4.2 Defining Functions"
   ]
  },
  {
   "cell_type": "code",
   "execution_count": 2,
   "id": "266bdad2-ccd6-46e5-9339-cd80d76b992c",
   "metadata": {},
   "outputs": [
    {
     "name": "stdout",
     "output_type": "stream",
     "text": [
      "49\n",
      "6.25\n"
     ]
    }
   ],
   "source": [
    "def square(number):\n",
    "    \"\"\"Calculate the square of number.\"\"\"\n",
    "    return number ** 2\n",
    "\n",
    "print(square(7))\n",
    "\n",
    "print(square(2.5))"
   ]
  },
  {
   "cell_type": "markdown",
   "id": "e65d8d62-9210-4db0-8f64-96772a0aec1e",
   "metadata": {},
   "source": [
    "- A function defition begins with the **def** keyworkd, followed by the function name, a set of parentheses and a colon\n",
    "- Function names should begin with a lowercase letter and use underscores to separate each word\n",
    "- The required parentheses contains the function's parameter list (a comma-separated list of aparameters that the function needs to perform its task)\n",
    "- If the () is empty the function does not use parameters to perform its task\n",
    "- The indented lines after the colon are the functions **block**\n",
    "- There is a difference between a functions block and a control-statement suite\n",
    "- The first line of a function's block should be a docstring that briefly explains the function's purpose\n",
    "- A more detailed explanation may follow the initial docstring\n",
    "- Other ways to return control from a function to its caller:\n",
    "    - Executing a return statement without an expression terminates the function and implicitly returns the value **None** to the caller. (None evaluates to False in conditions.)\n",
    "    - When there is no return statement in a function in implicitly returns the value None after executing the last statement in the function's block.\n",
    "- The parameter exists only during the function call and is destroyed when the function returns its result to the caller\n",
    "- A function's parameters and variables defined in its block are all local variables\n",
    "    - Local variables: they can be used only inside the function and exist only while the function is executing\n",
    "    - Trying to access a local variable outisde its function's block causes a NameError"
   ]
  },
  {
   "cell_type": "code",
   "execution_count": 3,
   "id": "cc9e0b8b-edb7-40d1-9b2e-66c4e287aae1",
   "metadata": {},
   "outputs": [
    {
     "data": {
      "text/plain": [
       "\u001b[0;31mSignature:\u001b[0m \u001b[0msquare\u001b[0m\u001b[0;34m(\u001b[0m\u001b[0mnumber\u001b[0m\u001b[0;34m)\u001b[0m\u001b[0;34m\u001b[0m\u001b[0;34m\u001b[0m\u001b[0m\n",
       "\u001b[0;31mDocstring:\u001b[0m Calculate the square of number.\n",
       "\u001b[0;31mFile:\u001b[0m      /var/folders/08/r16vjmps66jch4n1446z7m0r0000gn/T/ipykernel_6390/2775281084.py\n",
       "\u001b[0;31mType:\u001b[0m      function\n"
      ]
     },
     "metadata": {},
     "output_type": "display_data"
    }
   ],
   "source": [
    "square?"
   ]
  },
  {
   "cell_type": "code",
   "execution_count": 4,
   "id": "0ae0a948-28f2-4b4f-835e-5bab728f62c7",
   "metadata": {},
   "outputs": [
    {
     "data": {
      "text/plain": [
       "\u001b[0;31mSignature:\u001b[0m \u001b[0msquare\u001b[0m\u001b[0;34m(\u001b[0m\u001b[0mnumber\u001b[0m\u001b[0;34m)\u001b[0m\u001b[0;34m\u001b[0m\u001b[0;34m\u001b[0m\u001b[0m\n",
       "\u001b[0;31mSource:\u001b[0m   \n",
       "\u001b[0;32mdef\u001b[0m \u001b[0msquare\u001b[0m\u001b[0;34m(\u001b[0m\u001b[0mnumber\u001b[0m\u001b[0;34m)\u001b[0m\u001b[0;34m:\u001b[0m\u001b[0;34m\u001b[0m\n",
       "\u001b[0;34m\u001b[0m    \u001b[0;34m\"\"\"Calculate the square of number.\"\"\"\u001b[0m\u001b[0;34m\u001b[0m\n",
       "\u001b[0;34m\u001b[0m    \u001b[0;32mreturn\u001b[0m \u001b[0mnumber\u001b[0m \u001b[0;34m**\u001b[0m \u001b[0;36m2\u001b[0m\u001b[0;34m\u001b[0m\u001b[0;34m\u001b[0m\u001b[0m\n",
       "\u001b[0;31mFile:\u001b[0m      /var/folders/08/r16vjmps66jch4n1446z7m0r0000gn/T/ipykernel_6390/2775281084.py\n",
       "\u001b[0;31mType:\u001b[0m      function\n"
      ]
     },
     "metadata": {},
     "output_type": "display_data"
    }
   ],
   "source": [
    "square??"
   ]
  },
  {
   "cell_type": "markdown",
   "id": "87acd4be-11ad-4b78-8f16-53acc64f7947",
   "metadata": {},
   "source": [
    "### 4.2 Self Check"
   ]
  },
  {
   "cell_type": "code",
   "execution_count": 5,
   "id": "0baa43c8-ef59-4f63-9740-3c52cc55b9b9",
   "metadata": {},
   "outputs": [
    {
     "data": {
      "text/plain": [
       "2.5"
      ]
     },
     "execution_count": 5,
     "metadata": {},
     "output_type": "execute_result"
    }
   ],
   "source": [
    "def square_root(number):\n",
    "    return number ** 0.5\n",
    "\n",
    "square_root(6.25)"
   ]
  },
  {
   "cell_type": "markdown",
   "id": "576430dd-7fcf-4c8b-9120-d2225a1ae52c",
   "metadata": {},
   "source": [
    "### 4.3 Functions with Multiple Parameters"
   ]
  },
  {
   "cell_type": "code",
   "execution_count": 6,
   "id": "26d2723d-cd5e-4d04-bbc9-9a81f5957f4b",
   "metadata": {},
   "outputs": [
    {
     "name": "stdout",
     "output_type": "stream",
     "text": [
      "36\n",
      "45.6\n",
      "yellow\n",
      "12\n",
      "9.7\n",
      "orange\n"
     ]
    }
   ],
   "source": [
    "def maximum(value1, value2, value3):\n",
    "    \"\"\"Return the maximum of three values.\"\"\"\n",
    "    max_value = value1\n",
    "    if value2 > max_value:\n",
    "        max_value = value2\n",
    "    if value3 > max_value:\n",
    "        max_value = value3\n",
    "    return max_value\n",
    "\n",
    "print(maximum(12, 27, 36))\n",
    "print(maximum(12.3, 45.6, 9.7))\n",
    "print(maximum('yellow', 'red', 'orange'))\n",
    "\n",
    "def minimum(value1, value2, value3):\n",
    "    \"\"\"Return the minimum of three values\"\"\"\n",
    "    min_value = value1\n",
    "    if value2 < min_value:\n",
    "        min_value = value2\n",
    "    if value3 < min_value:\n",
    "        min_value = value3\n",
    "    return min_value\n",
    "\n",
    "print(minimum(12, 27, 36))\n",
    "print(minimum(12.3, 45.6, 9.7))\n",
    "print(minimum('yellow', 'red', 'orange'))"
   ]
  },
  {
   "cell_type": "markdown",
   "id": "ae8f7ab0-4f81-4796-bbfa-cdcaae743c2f",
   "metadata": {},
   "source": [
    "### 4.3 Self Check"
   ]
  },
  {
   "cell_type": "code",
   "execution_count": 7,
   "id": "60c7eabb-8509-4ac8-b6ca-6b6d36b95245",
   "metadata": {},
   "outputs": [
    {
     "name": "stdout",
     "output_type": "stream",
     "text": [
      "27\n",
      "a\n"
     ]
    }
   ],
   "source": [
    "print(max([14, 27, 5, 3]))\n",
    "print(min('orange'))"
   ]
  },
  {
   "cell_type": "markdown",
   "id": "3bc7ab95-5542-448f-a6a9-52d88b9b1ea7",
   "metadata": {},
   "source": [
    "### 4.4 Random Number Generation"
   ]
  },
  {
   "cell_type": "code",
   "execution_count": 8,
   "id": "6be964fd-e542-40b4-ae9d-71300fdfaa4a",
   "metadata": {},
   "outputs": [
    {
     "name": "stdout",
     "output_type": "stream",
     "text": [
      "5 1 2 1 6 1 2 5 4 3 "
     ]
    }
   ],
   "source": [
    "import random\n",
    "\n",
    "for roll in range(10):\n",
    "    print(random.randrange(1, 7), end= ' ')"
   ]
  },
  {
   "cell_type": "markdown",
   "id": "0087a7bf-0e7d-496d-9a61-9faea846e45e",
   "metadata": {},
   "source": [
    "The **randrange** function generates an integer from the first argument value up to but **not** including the second argument value. "
   ]
  },
  {
   "cell_type": "code",
   "execution_count": 9,
   "id": "1909e7f2-409a-4292-a5d2-a8f81096fa21",
   "metadata": {},
   "outputs": [
    {
     "name": "stdout",
     "output_type": "stream",
     "text": [
      "Face    Frequency\n",
      "   1       998692\n",
      "   2      1000667\n",
      "   3       999713\n",
      "   4       999230\n",
      "   5      1000513\n",
      "   6      1001185\n"
     ]
    }
   ],
   "source": [
    "import random\n",
    "\n",
    "frequency1 = 0\n",
    "frequency2 = 0\n",
    "frequency3 = 0\n",
    "frequency4 = 0\n",
    "frequency5 = 0\n",
    "frequency6 = 0\n",
    "\n",
    "for roll in range(6_000_000):\n",
    "    face = random.randrange(1, 7)\n",
    "    \n",
    "    if face == 1:\n",
    "        frequency1 += 1\n",
    "    elif face == 2:\n",
    "        frequency2 += 1\n",
    "    elif face == 3:\n",
    "        frequency3 += 1\n",
    "    elif face == 4:\n",
    "        frequency4 += 1\n",
    "    elif face == 5:\n",
    "        frequency5 += 1\n",
    "    elif face == 6:\n",
    "        frequency6 += 1\n",
    "        \n",
    "print(f'Face{\"Frequency\":>13}')\n",
    "print(f'{1:>4}{frequency1:>13}')\n",
    "print(f'{2:>4}{frequency2:>13}')\n",
    "print(f'{3:>4}{frequency3:>13}')\n",
    "print(f'{4:>4}{frequency4:>13}')\n",
    "print(f'{5:>4}{frequency5:>13}')\n",
    "print(f'{6:>4}{frequency6:>13}')"
   ]
  },
  {
   "cell_type": "markdown",
   "id": "e007f537-70be-45c9-86f3-7b863a1fa86a",
   "metadata": {},
   "source": [
    "The random module's seed function can be used to seed the random-number generator yourself––this forces randrange to begin calculating its pseudorandom number sequence from the seed ou specify."
   ]
  },
  {
   "cell_type": "code",
   "execution_count": 10,
   "id": "80e335ef-dcfa-4a9f-bb1c-92591452502b",
   "metadata": {},
   "outputs": [
    {
     "name": "stdout",
     "output_type": "stream",
     "text": [
      "1 2 2 3 6 2 4 1 6 1  \n",
      "1 3 5 3 1 5 6 4 3 5  \n",
      "1 2 2 3 6 2 4 1 6 1 "
     ]
    }
   ],
   "source": [
    "random.seed(32)\n",
    "\n",
    "for roll in range(10):\n",
    "    print(random.randrange(1,7), end=' ')\n",
    "    \n",
    "print(' ')\n",
    "\n",
    "for roll in range(10):\n",
    "    print(random.randrange(1,7), end=' ')\n",
    "\n",
    "print(' ')\n",
    "\n",
    "random.seed(32)\n",
    "\n",
    "for roll in range(10):\n",
    "    print(random.randrange(1,7), end=' ')"
   ]
  },
  {
   "cell_type": "markdown",
   "id": "1c3fdd91-16bb-485e-9650-b185ff54f50f",
   "metadata": {},
   "source": [
    "### 4.4 Self Check"
   ]
  },
  {
   "cell_type": "code",
   "execution_count": 11,
   "id": "b9ec8ed9-bb7a-4d34-9e49-74a39a580640",
   "metadata": {},
   "outputs": [
    {
     "name": "stdout",
     "output_type": "stream",
     "text": [
      "H T T H T T H H H T H T H T H T H H H H "
     ]
    }
   ],
   "source": [
    "for flip in range(20):\n",
    "    r = random.randrange(1,3)\n",
    "    if r == 1:\n",
    "        print(\"H\", end=' ')\n",
    "    else:\n",
    "        print(\"T\", end=' ')"
   ]
  },
  {
   "cell_type": "markdown",
   "id": "3cc612b9-8629-4557-813a-b1a7adf0de5f",
   "metadata": {},
   "source": [
    "### 4.5 Case Study"
   ]
  },
  {
   "cell_type": "markdown",
   "id": "acd269ab-8be2-431d-8e48-b53fadadd24e",
   "metadata": {},
   "source": [
    "Packing / Unpacking a tuple"
   ]
  },
  {
   "cell_type": "code",
   "execution_count": 29,
   "id": "6cb014d6-9ad0-4cc2-8049-8f3c9227c5e2",
   "metadata": {},
   "outputs": [
    {
     "name": "stdout",
     "output_type": "stream",
     "text": [
      "(5, 3)\n",
      "<class 'tuple'>\n",
      "8\n",
      "<class 'int'>\n"
     ]
    }
   ],
   "source": [
    "import random\n",
    "\n",
    "def roll_dice():\n",
    "    \"\"\"Roll two dice and return their face values as a tuple.\"\"\"\n",
    "    die1 = random.randrange(1, 7)\n",
    "    die2 = random.randrange(1, 7)\n",
    "    return (die1, die2)\n",
    "\n",
    "dice = roll_dice()\n",
    "print(dice)\n",
    "print(type(dice))\n",
    "print(sum(dice))\n",
    "print(type(sum(dice)))\n"
   ]
  },
  {
   "cell_type": "code",
   "execution_count": null,
   "id": "a52892f6-0d55-434c-8f98-25a8c3719529",
   "metadata": {},
   "outputs": [],
   "source": []
  }
 ],
 "metadata": {
  "kernelspec": {
   "display_name": "Python 3 (ipykernel)",
   "language": "python",
   "name": "python3"
  },
  "language_info": {
   "codemirror_mode": {
    "name": "ipython",
    "version": 3
   },
   "file_extension": ".py",
   "mimetype": "text/x-python",
   "name": "python",
   "nbconvert_exporter": "python",
   "pygments_lexer": "ipython3",
   "version": "3.9.7"
  }
 },
 "nbformat": 4,
 "nbformat_minor": 5
}
